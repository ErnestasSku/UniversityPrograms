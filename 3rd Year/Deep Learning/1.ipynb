{
  "nbformat": 4,
  "nbformat_minor": 0,
  "metadata": {
    "colab": {
      "provenance": [],
      "authorship_tag": "ABX9TyPEZyG1xnOS/h2aWTv/h0oi",
      "include_colab_link": true
    },
    "kernelspec": {
      "name": "python3",
      "display_name": "Python 3"
    },
    "language_info": {
      "name": "python"
    }
  },
  "cells": [
    {
      "cell_type": "markdown",
      "metadata": {
        "id": "view-in-github",
        "colab_type": "text"
      },
      "source": [
        "<a href=\"https://colab.research.google.com/github/ErnestasSku/UniversityPrograms/blob/main/3rd%20Year/Deep%20Learning/1.ipynb\" target=\"_parent\"><img src=\"https://colab.research.google.com/assets/colab-badge.svg\" alt=\"Open In Colab\"/></a>"
      ]
    },
    {
      "cell_type": "markdown",
      "source": [
        "Ernestas Škudzinskas 2016049 \n",
        "Programų sistemos\n",
        "3 kursas 4 grupė"
      ],
      "metadata": {
        "id": "CJqlWnk2LUmu"
      }
    },
    {
      "cell_type": "code",
      "source": [
        "import os\n",
        "import numpy as np\n",
        "import tensorflow as tf\n",
        "import matplotlib.pyplot as plt\n",
        "from sklearn.metrics import accuracy_score, precision_score, f1_score, recall_score\n",
        "\n",
        "import cv2 as cv"
      ],
      "metadata": {
        "id": "XOisiKxas_HI"
      },
      "execution_count": 2,
      "outputs": []
    },
    {
      "cell_type": "code",
      "execution_count": 3,
      "metadata": {
        "colab": {
          "base_uri": "https://localhost:8080/"
        },
        "id": "Zs7G6QU1oOu6",
        "outputId": "4bd92d62-99c4-490d-8fc7-6fcdb8e60cde"
      },
      "outputs": [
        {
          "output_type": "stream",
          "name": "stdout",
          "text": [
            "Mounted at /content/drive\n"
          ]
        }
      ],
      "source": [
        "from google.colab import drive\n",
        "\n",
        "drive.mount('/content/drive')"
      ]
    },
    {
      "cell_type": "code",
      "source": [
        "path = \"/content/drive/MyDrive/Dataset\"\n",
        "\n",
        "def fp_to_nr(x):\n",
        "  x = x[:-4]\n",
        "  return int(x[6:])\n",
        "\n",
        "files = os.listdir(path)\n",
        "files.sort(key=fp_to_nr)"
      ],
      "metadata": {
        "id": "5ygQ7LvFs84I"
      },
      "execution_count": 4,
      "outputs": []
    },
    {
      "cell_type": "code",
      "source": [
        "def my_gen():\n",
        "  for file in files:\n",
        "    yield cv.resize(cv.imread(f\"{path}/{file}\"), (224, 224))"
      ],
      "metadata": {
        "id": "mtS_ydgyudNi"
      },
      "execution_count": 5,
      "outputs": []
    },
    {
      "cell_type": "code",
      "source": [
        "net = tf.keras.applications.resnet50.ResNet50()"
      ],
      "metadata": {
        "id": "iUOPV5M7xMHu",
        "colab": {
          "base_uri": "https://localhost:8080/"
        },
        "outputId": "27867235-2f95-4eb1-f486-7745de9b02f8"
      },
      "execution_count": 6,
      "outputs": [
        {
          "output_type": "stream",
          "name": "stdout",
          "text": [
            "Downloading data from https://storage.googleapis.com/tensorflow/keras-applications/resnet/resnet50_weights_tf_dim_ordering_tf_kernels.h5\n",
            "102967424/102967424 [==============================] - 1s 0us/step\n"
          ]
        }
      ]
    },
    {
      "cell_type": "code",
      "source": [
        "input = tf.keras.Input(shape=(224, 224, 3))\n",
        "x = net(input)\n",
        "model = tf.keras.Model(inputs=input, outputs=x)"
      ],
      "metadata": {
        "id": "Y5MHRQ4dZ114"
      },
      "execution_count": 7,
      "outputs": []
    },
    {
      "cell_type": "code",
      "source": [
        "model.compile(\n",
        "    optimizer=tf.keras.optimizers.Adam(0.001),\n",
        "    loss=tf.keras.losses.SparseCategoricalCrossentropy(from_logits=True),\n",
        "    metrics=[tf.keras.metrics.SparseCategoricalAccuracy()])"
      ],
      "metadata": {
        "id": "zUJ4-0QIaQqB"
      },
      "execution_count": 8,
      "outputs": []
    },
    {
      "cell_type": "code",
      "source": [
        "output_types = tf.float32\n",
        "output_shapes = (224,224,3)\n",
        "data = tf.data.Dataset.from_generator(my_gen, output_types=output_types, output_shapes=output_shapes)\n",
        "data = data.cache()\n",
        "data = data.batch(32)\n",
        "data = data.prefetch(tf.data.AUTOTUNE)"
      ],
      "metadata": {
        "id": "5KfxQg3SIoS9"
      },
      "execution_count": 9,
      "outputs": []
    },
    {
      "cell_type": "code",
      "source": [
        "p = model.predict(data)"
      ],
      "metadata": {
        "colab": {
          "base_uri": "https://localhost:8080/"
        },
        "id": "tIbfKvp4KTrU",
        "outputId": "8d9cd164-3fe3-4ea6-e835-d67532562e23"
      },
      "execution_count": 10,
      "outputs": [
        {
          "output_type": "stream",
          "name": "stdout",
          "text": [
            "32/32 [==============================] - 187s 5s/step\n"
          ]
        }
      ]
    },
    {
      "cell_type": "code",
      "source": [
        "candles = [470]\n",
        "coffee = [967, 504, 505]\n",
        "panda = [387, 388]"
      ],
      "metadata": {
        "id": "vNg9FEThM1Ml"
      },
      "execution_count": 11,
      "outputs": []
    },
    {
      "cell_type": "code",
      "source": [
        "candleCount = 0\n",
        "coffeeCount = 0\n",
        "pandaCount = 0\n",
        "\n",
        "threshold = 0.8\n",
        "\n",
        "filterFunc = lambda i : list(filter(lambda x : x[i] > threshold, p))\n",
        "sumFilter = lambda arr : sum([len(filterFunc(i)) for i in arr])\n",
        "\n",
        "totalCandleCount = sumFilter(candles)\n",
        "totalCoffeeCount = sumFilter(coffee)\n",
        "totalPandaCount = sumFilter(panda)\n",
        "\n",
        "\n",
        "print(f\"total candles found: {totalCandleCount}\")\n",
        "print(f\"total pandas found: {totalPandaCount}\")\n",
        "print(f\"total coffees found: {totalCoffeeCount}\")\n",
        "\n",
        "def prediction_to_symbol(n: np.array) -> str:\n",
        "  if n[470] > threshold:\n",
        "    return 'ca'\n",
        "  elif n[967] > threshold or n[504] > threshold or n[505] > threshold:\n",
        "    return 'co'\n",
        "  elif n[387] > threshold or n[388] > threshold:\n",
        "    return 'p'   \n",
        "  else: \n",
        "    return 'n'\n",
        "\n",
        "mapped = list(map(prediction_to_symbol, p))\n",
        "correct = ['ca'] * 333 + ['co'] * 333 + ['p'] * 333\n",
        "\n",
        "print('')\n",
        "print(f\" Accuracy: {accuracy_score(correct, mapped)}\")\n",
        "print(f\" Precision: {precision_score(correct, mapped, average='macro')}\")\n",
        "print(f\" F1: {f1_score(correct, mapped, average='macro')}\")\n",
        " \n",
        "\n"
      ],
      "metadata": {
        "id": "13-45ZxmS-Bm",
        "colab": {
          "base_uri": "https://localhost:8080/"
        },
        "outputId": "7efe79bb-caee-4028-db74-977f35f32d5a"
      },
      "execution_count": 21,
      "outputs": [
        {
          "output_type": "stream",
          "name": "stdout",
          "text": [
            "total candles found: 216\n",
            "total pandas found: 132\n",
            "total coffees found: 60\n",
            "\n",
            " Accuracy: 0.4064064064064064\n",
            " Precision: 0.7476851851851851\n",
            " F1: 0.4131711795842007\n"
          ]
        }
      ]
    },
    {
      "cell_type": "markdown",
      "source": [
        "Some texting bellow"
      ],
      "metadata": {
        "id": "ldckRWVaLQhN"
      }
    },
    {
      "cell_type": "code",
      "source": [],
      "metadata": {
        "id": "tb07xx8MxjZn"
      },
      "execution_count": null,
      "outputs": []
    }
  ]
}